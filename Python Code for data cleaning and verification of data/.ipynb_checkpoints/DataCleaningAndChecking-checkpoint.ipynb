{
 "cells": [
  {
   "cell_type": "code",
   "execution_count": 1,
   "id": "914d54bb-3d93-48ab-8873-1966f389350d",
   "metadata": {},
   "outputs": [],
   "source": [
    "import numpy as np\n",
    "import pandas as pd"
   ]
  },
  {
   "cell_type": "markdown",
   "id": "a3a4d11d-6006-4863-92b0-cbf9f6ff60b9",
   "metadata": {},
   "source": [
    "## Loading Data"
   ]
  },
  {
   "cell_type": "code",
   "execution_count": 3,
   "id": "7e1af66c-91b7-4004-8789-243d38c5a629",
   "metadata": {},
   "outputs": [],
   "source": [
    "df = pd.read_csv('../Old Data/ecommerce_data.csv', encoding='ISO-8859-1')"
   ]
  },
  {
   "cell_type": "markdown",
   "id": "4a59a129-4538-4274-830d-a23942ac02c8",
   "metadata": {},
   "source": [
    "## Data Inspection"
   ]
  },
  {
   "cell_type": "code",
   "execution_count": 30,
   "id": "8ed6132d-6192-45ea-930f-02f2de8455a1",
   "metadata": {},
   "outputs": [
    {
     "data": {
      "text/html": [
       "<div>\n",
       "<style scoped>\n",
       "    .dataframe tbody tr th:only-of-type {\n",
       "        vertical-align: middle;\n",
       "    }\n",
       "\n",
       "    .dataframe tbody tr th {\n",
       "        vertical-align: top;\n",
       "    }\n",
       "\n",
       "    .dataframe thead th {\n",
       "        text-align: right;\n",
       "    }\n",
       "</style>\n",
       "<table border=\"1\" class=\"dataframe\">\n",
       "  <thead>\n",
       "    <tr style=\"text-align: right;\">\n",
       "      <th></th>\n",
       "      <th>customer_id</th>\n",
       "      <th>customer_first_name</th>\n",
       "      <th>customer_last_name</th>\n",
       "      <th>category_name</th>\n",
       "      <th>product_name</th>\n",
       "      <th>customer_segment</th>\n",
       "      <th>customer_city</th>\n",
       "      <th>customer_state</th>\n",
       "      <th>customer_country</th>\n",
       "      <th>customer_region</th>\n",
       "      <th>...</th>\n",
       "      <th>order_date</th>\n",
       "      <th>order_id</th>\n",
       "      <th>ship_date</th>\n",
       "      <th>shipping_type</th>\n",
       "      <th>days_for_shipment_scheduled</th>\n",
       "      <th>days_for_shipment_real</th>\n",
       "      <th>order_item_discount</th>\n",
       "      <th>sales_per_order</th>\n",
       "      <th>order_quantity</th>\n",
       "      <th>profit_per_order</th>\n",
       "    </tr>\n",
       "  </thead>\n",
       "  <tbody>\n",
       "    <tr>\n",
       "      <th>0</th>\n",
       "      <td>C_ID_45866</td>\n",
       "      <td>Mary</td>\n",
       "      <td>Fuller</td>\n",
       "      <td>Office Supplies</td>\n",
       "      <td>Xerox 1913</td>\n",
       "      <td>Corporate</td>\n",
       "      <td>New Rochelle</td>\n",
       "      <td>New York</td>\n",
       "      <td>United States</td>\n",
       "      <td>East</td>\n",
       "      <td>...</td>\n",
       "      <td>2022-05-11</td>\n",
       "      <td>O_ID_3001072</td>\n",
       "      <td>2022-07-11</td>\n",
       "      <td>Second Class</td>\n",
       "      <td>2</td>\n",
       "      <td>2</td>\n",
       "      <td>35.0</td>\n",
       "      <td>500.0</td>\n",
       "      <td>5</td>\n",
       "      <td>223.2</td>\n",
       "    </tr>\n",
       "    <tr>\n",
       "      <th>1</th>\n",
       "      <td>C_ID_44932</td>\n",
       "      <td>Alan</td>\n",
       "      <td>Edelman</td>\n",
       "      <td>Office Supplies</td>\n",
       "      <td>#6 3/4 Gummed Flap White Envelopes</td>\n",
       "      <td>Corporate</td>\n",
       "      <td>Houston</td>\n",
       "      <td>Texas</td>\n",
       "      <td>United States</td>\n",
       "      <td>Central</td>\n",
       "      <td>...</td>\n",
       "      <td>2022-06-20</td>\n",
       "      <td>O_ID_3009170</td>\n",
       "      <td>2022-06-23</td>\n",
       "      <td>Second Class</td>\n",
       "      <td>2</td>\n",
       "      <td>3</td>\n",
       "      <td>85.0</td>\n",
       "      <td>500.0</td>\n",
       "      <td>5</td>\n",
       "      <td>199.2</td>\n",
       "    </tr>\n",
       "    <tr>\n",
       "      <th>2</th>\n",
       "      <td>C_ID_70880</td>\n",
       "      <td>Mary</td>\n",
       "      <td>Gayman</td>\n",
       "      <td>Office Supplies</td>\n",
       "      <td>Belkin 8 Outlet Surge Protector</td>\n",
       "      <td>Consumer</td>\n",
       "      <td>Louisville</td>\n",
       "      <td>Kentucky</td>\n",
       "      <td>United States</td>\n",
       "      <td>South</td>\n",
       "      <td>...</td>\n",
       "      <td>2022-06-25</td>\n",
       "      <td>O_ID_3047567</td>\n",
       "      <td>2022-06-30</td>\n",
       "      <td>Standard Class</td>\n",
       "      <td>4</td>\n",
       "      <td>5</td>\n",
       "      <td>75.0</td>\n",
       "      <td>44.0</td>\n",
       "      <td>5</td>\n",
       "      <td>195.5</td>\n",
       "    </tr>\n",
       "    <tr>\n",
       "      <th>3</th>\n",
       "      <td>C_ID_33157</td>\n",
       "      <td>Raymond</td>\n",
       "      <td>Eason</td>\n",
       "      <td>Office Supplies</td>\n",
       "      <td>GBC VeloBinder Manual Binding System</td>\n",
       "      <td>Corporate</td>\n",
       "      <td>Chicago</td>\n",
       "      <td>Illinois</td>\n",
       "      <td>United States</td>\n",
       "      <td>Central</td>\n",
       "      <td>...</td>\n",
       "      <td>2022-06-10</td>\n",
       "      <td>O_ID_3060575</td>\n",
       "      <td>2022-10-10</td>\n",
       "      <td>Second Class</td>\n",
       "      <td>2</td>\n",
       "      <td>4</td>\n",
       "      <td>60.0</td>\n",
       "      <td>254.0</td>\n",
       "      <td>1</td>\n",
       "      <td>220.0</td>\n",
       "    </tr>\n",
       "    <tr>\n",
       "      <th>4</th>\n",
       "      <td>C_ID_58303</td>\n",
       "      <td>Mary</td>\n",
       "      <td>Gonzalez</td>\n",
       "      <td>Furniture</td>\n",
       "      <td>Eldon Pizzaz Desk Accessories</td>\n",
       "      <td>Home Office</td>\n",
       "      <td>Philadelphia</td>\n",
       "      <td>Pennsylvania</td>\n",
       "      <td>United States</td>\n",
       "      <td>East</td>\n",
       "      <td>...</td>\n",
       "      <td>2022-05-02</td>\n",
       "      <td>O_ID_3064311</td>\n",
       "      <td>2022-01-08</td>\n",
       "      <td>First Class</td>\n",
       "      <td>1</td>\n",
       "      <td>2</td>\n",
       "      <td>125.0</td>\n",
       "      <td>500.0</td>\n",
       "      <td>1</td>\n",
       "      <td>97.5</td>\n",
       "    </tr>\n",
       "  </tbody>\n",
       "</table>\n",
       "<p>5 rows × 21 columns</p>\n",
       "</div>"
      ],
      "text/plain": [
       "  customer_id customer_first_name customer_last_name    category_name  \\\n",
       "0  C_ID_45866                Mary             Fuller  Office Supplies   \n",
       "1  C_ID_44932                Alan            Edelman  Office Supplies   \n",
       "2  C_ID_70880                Mary             Gayman  Office Supplies   \n",
       "3  C_ID_33157             Raymond              Eason  Office Supplies   \n",
       "4  C_ID_58303                Mary           Gonzalez        Furniture   \n",
       "\n",
       "                           product_name customer_segment customer_city  \\\n",
       "0                            Xerox 1913        Corporate  New Rochelle   \n",
       "1    #6 3/4 Gummed Flap White Envelopes        Corporate       Houston   \n",
       "2       Belkin 8 Outlet Surge Protector         Consumer    Louisville   \n",
       "3  GBC VeloBinder Manual Binding System        Corporate       Chicago   \n",
       "4         Eldon Pizzaz Desk Accessories      Home Office  Philadelphia   \n",
       "\n",
       "  customer_state customer_country customer_region  ...  order_date  \\\n",
       "0       New York    United States            East  ...  2022-05-11   \n",
       "1          Texas    United States         Central  ...  2022-06-20   \n",
       "2       Kentucky    United States           South  ...  2022-06-25   \n",
       "3       Illinois    United States         Central  ...  2022-06-10   \n",
       "4   Pennsylvania    United States            East  ...  2022-05-02   \n",
       "\n",
       "       order_id   ship_date   shipping_type days_for_shipment_scheduled  \\\n",
       "0  O_ID_3001072  2022-07-11    Second Class                           2   \n",
       "1  O_ID_3009170  2022-06-23    Second Class                           2   \n",
       "2  O_ID_3047567  2022-06-30  Standard Class                           4   \n",
       "3  O_ID_3060575  2022-10-10    Second Class                           2   \n",
       "4  O_ID_3064311  2022-01-08     First Class                           1   \n",
       "\n",
       "   days_for_shipment_real  order_item_discount  sales_per_order  \\\n",
       "0                       2                 35.0            500.0   \n",
       "1                       3                 85.0            500.0   \n",
       "2                       5                 75.0             44.0   \n",
       "3                       4                 60.0            254.0   \n",
       "4                       2                125.0            500.0   \n",
       "\n",
       "   order_quantity  profit_per_order  \n",
       "0               5             223.2  \n",
       "1               5             199.2  \n",
       "2               5             195.5  \n",
       "3               1             220.0  \n",
       "4               1              97.5  \n",
       "\n",
       "[5 rows x 21 columns]"
      ]
     },
     "execution_count": 30,
     "metadata": {},
     "output_type": "execute_result"
    }
   ],
   "source": [
    "df.head()"
   ]
  },
  {
   "cell_type": "markdown",
   "id": "4d83fec4-00c9-405c-979d-60faec805fde",
   "metadata": {},
   "source": [
    "## Checks for Data Cleaning "
   ]
  },
  {
   "cell_type": "code",
   "execution_count": 5,
   "id": "374f1733-bd06-40af-a79f-31c56ef5ca45",
   "metadata": {},
   "outputs": [
    {
     "name": "stdout",
     "output_type": "stream",
     "text": [
      "<class 'pandas.core.frame.DataFrame'>\n",
      "RangeIndex: 113270 entries, 0 to 113269\n",
      "Data columns (total 21 columns):\n",
      " #   Column                       Non-Null Count   Dtype  \n",
      "---  ------                       --------------   -----  \n",
      " 0   customer_id                  113270 non-null  object \n",
      " 1   customer_first_name          113270 non-null  object \n",
      " 2   customer_last_name           113270 non-null  object \n",
      " 3   category_name                113270 non-null  object \n",
      " 4   product_name                 113270 non-null  object \n",
      " 5   customer_segment             113270 non-null  object \n",
      " 6   customer_city                113270 non-null  object \n",
      " 7   customer_state               113270 non-null  object \n",
      " 8   customer_country             113270 non-null  object \n",
      " 9   customer_region              113270 non-null  object \n",
      " 10  delivery_status              113270 non-null  object \n",
      " 11  order_date                   113270 non-null  object \n",
      " 12  order_id                     113270 non-null  object \n",
      " 13  ship_date                    113270 non-null  object \n",
      " 14  shipping_type                113270 non-null  object \n",
      " 15  days_for_shipment_scheduled  113270 non-null  int64  \n",
      " 16  days_for_shipment_real       113270 non-null  int64  \n",
      " 17  order_item_discount          113270 non-null  float64\n",
      " 18  sales_per_order              113270 non-null  float64\n",
      " 19  order_quantity               113270 non-null  int64  \n",
      " 20  profit_per_order             113270 non-null  float64\n",
      "dtypes: float64(3), int64(3), object(15)\n",
      "memory usage: 18.1+ MB\n"
     ]
    }
   ],
   "source": [
    "df.info()  "
   ]
  },
  {
   "cell_type": "code",
   "execution_count": 6,
   "id": "7ded8390-deee-4cb6-a271-3fd70e25e2cb",
   "metadata": {},
   "outputs": [
    {
     "data": {
      "text/plain": [
       "(113270, 21)"
      ]
     },
     "execution_count": 6,
     "metadata": {},
     "output_type": "execute_result"
    }
   ],
   "source": [
    "df.shape"
   ]
  },
  {
   "cell_type": "code",
   "execution_count": 28,
   "id": "768ea449-2e9b-456a-83bd-ead62bd8ffb1",
   "metadata": {},
   "outputs": [],
   "source": [
    "df['order_date']=pd.to_datetime(df['order_date'],format='%d-%m-%Y').dt.strftime('%Y-%m-%d')"
   ]
  },
  {
   "cell_type": "code",
   "execution_count": 29,
   "id": "17a06ab5-6304-46a8-8322-bf7ab7d4d13b",
   "metadata": {},
   "outputs": [],
   "source": [
    "df['ship_date']=pd.to_datetime(df['ship_date'],format='%d-%m-%Y').dt.strftime('%Y-%m-%d')"
   ]
  },
  {
   "cell_type": "code",
   "execution_count": 9,
   "id": "d1e17ddb-608a-4dc6-b202-fc1bfa3e6d60",
   "metadata": {},
   "outputs": [
    {
     "data": {
      "text/plain": [
       "0"
      ]
     },
     "execution_count": 9,
     "metadata": {},
     "output_type": "execute_result"
    }
   ],
   "source": [
    "df.duplicated().sum() #No Duplicates"
   ]
  },
  {
   "cell_type": "code",
   "execution_count": 10,
   "id": "98287656-3894-43b6-8d85-d32b8e9b1a13",
   "metadata": {},
   "outputs": [
    {
     "data": {
      "text/plain": [
       "category_name\n",
       "Office Supplies    68111\n",
       "Furniture          24443\n",
       "Technology         20716\n",
       "Name: count, dtype: int64"
      ]
     },
     "execution_count": 10,
     "metadata": {},
     "output_type": "execute_result"
    }
   ],
   "source": [
    "df['category_name'].value_counts()"
   ]
  },
  {
   "cell_type": "code",
   "execution_count": 11,
   "id": "e6183440-72e2-494b-99e3-a8a0e73a807b",
   "metadata": {},
   "outputs": [
    {
     "data": {
      "text/plain": [
       "customer_segment\n",
       "Consumer       58714\n",
       "Corporate      34322\n",
       "Home Office    20234\n",
       "Name: count, dtype: int64"
      ]
     },
     "execution_count": 11,
     "metadata": {},
     "output_type": "execute_result"
    }
   ],
   "source": [
    "df['customer_segment'].value_counts()"
   ]
  },
  {
   "cell_type": "code",
   "execution_count": 12,
   "id": "6396c108-22ed-476f-95aa-c8aa695b832e",
   "metadata": {},
   "outputs": [
    {
     "data": {
      "text/plain": [
       "customer_city\n",
       "New York City      10346\n",
       "Los Angeles         8471\n",
       "Philadelphia        6097\n",
       "San Francisco       5796\n",
       "Seattle             4829\n",
       "                   ...  \n",
       "Kissimmee             11\n",
       "Missouri City         11\n",
       "Rochester Hills       11\n",
       "Commerce City         11\n",
       "San Luis Obispo       10\n",
       "Name: count, Length: 531, dtype: int64"
      ]
     },
     "execution_count": 12,
     "metadata": {},
     "output_type": "execute_result"
    }
   ],
   "source": [
    "df['customer_city'].value_counts()"
   ]
  },
  {
   "cell_type": "code",
   "execution_count": 13,
   "id": "2c52d9f4-79ce-4df4-a9a7-0913e271f2e9",
   "metadata": {},
   "outputs": [
    {
     "data": {
      "text/plain": [
       "49"
      ]
     },
     "execution_count": 13,
     "metadata": {},
     "output_type": "execute_result"
    }
   ],
   "source": [
    "len(df['customer_state'].value_counts())"
   ]
  },
  {
   "cell_type": "code",
   "execution_count": 14,
   "id": "f47519a8-bdb7-41f6-ae0e-21e3787e4539",
   "metadata": {},
   "outputs": [
    {
     "data": {
      "text/plain": [
       "customer_state\n",
       "California              22679\n",
       "New York                12775\n",
       "Texas                   11191\n",
       "Pennsylvania             6672\n",
       "Washington               5708\n",
       "Illinois                 5579\n",
       "Ohio                     5294\n",
       "Florida                  4354\n",
       "Michigan                 2889\n",
       "North Carolina           2812\n",
       "Virginia                 2573\n",
       "Arizona                  2553\n",
       "Georgia                  2085\n",
       "Tennessee                2053\n",
       "Colorado                 2047\n",
       "Indiana                  1675\n",
       "Kentucky                 1583\n",
       "Massachusetts            1539\n",
       "New Jersey               1464\n",
       "Oregon                   1417\n",
       "Wisconsin                1232\n",
       "Maryland                 1184\n",
       "Delaware                 1092\n",
       "Minnesota                1015\n",
       "Connecticut               926\n",
       "Missouri                  745\n",
       "Oklahoma                  737\n",
       "Alabama                   696\n",
       "Arkansas                  679\n",
       "Rhode Island              635\n",
       "Utah                      613\n",
       "Mississippi               598\n",
       "Louisiana                 484\n",
       "South Carolina            484\n",
       "Nevada                    442\n",
       "Nebraska                  427\n",
       "New Mexico                415\n",
       "Iowa                      336\n",
       "New Hampshire             307\n",
       "Kansas                    275\n",
       "Idaho                     238\n",
       "Montana                   172\n",
       "South Dakota              136\n",
       "Vermont                   123\n",
       "District of Columbia      112\n",
       "Maine                      94\n",
       "North Dakota               77\n",
       "West Virginia              43\n",
       "Wyoming                    11\n",
       "Name: count, dtype: int64"
      ]
     },
     "execution_count": 14,
     "metadata": {},
     "output_type": "execute_result"
    }
   ],
   "source": [
    "df['customer_state'].value_counts()"
   ]
  },
  {
   "cell_type": "code",
   "execution_count": 15,
   "id": "fbb1af2c-7153-41fd-a947-c87ce39ef109",
   "metadata": {},
   "outputs": [
    {
     "data": {
      "text/plain": [
       "customer_country\n",
       "United States    113270\n",
       "Name: count, dtype: int64"
      ]
     },
     "execution_count": 15,
     "metadata": {},
     "output_type": "execute_result"
    }
   ],
   "source": [
    "df['customer_country'].value_counts()"
   ]
  },
  {
   "cell_type": "code",
   "execution_count": 16,
   "id": "025b6431-aa50-49a0-b8bd-5bea22e0fb8b",
   "metadata": {},
   "outputs": [
    {
     "data": {
      "text/plain": [
       "customer_region\n",
       "West       36295\n",
       "East       32260\n",
       "Central    26314\n",
       "South      18401\n",
       "Name: count, dtype: int64"
      ]
     },
     "execution_count": 16,
     "metadata": {},
     "output_type": "execute_result"
    }
   ],
   "source": [
    "df['customer_region'].value_counts()"
   ]
  },
  {
   "cell_type": "code",
   "execution_count": 17,
   "id": "84282f81-77cb-4840-99a3-04830ebbfc1e",
   "metadata": {},
   "outputs": [
    {
     "data": {
      "text/plain": [
       "delivery_status\n",
       "Late delivery        62051\n",
       "Advance shipping     25930\n",
       "Shipping on time     20393\n",
       "Shipping canceled     4896\n",
       "Name: count, dtype: int64"
      ]
     },
     "execution_count": 17,
     "metadata": {},
     "output_type": "execute_result"
    }
   ],
   "source": [
    "df['delivery_status'].value_counts()"
   ]
  },
  {
   "cell_type": "code",
   "execution_count": 18,
   "id": "f054c39c-029d-4ae9-a600-29e5cc9f31e4",
   "metadata": {},
   "outputs": [
    {
     "name": "stdout",
     "output_type": "stream",
     "text": [
      "<class 'pandas.core.frame.DataFrame'>\n",
      "RangeIndex: 113270 entries, 0 to 113269\n",
      "Data columns (total 21 columns):\n",
      " #   Column                       Non-Null Count   Dtype         \n",
      "---  ------                       --------------   -----         \n",
      " 0   customer_id                  113270 non-null  object        \n",
      " 1   customer_first_name          113270 non-null  object        \n",
      " 2   customer_last_name           113270 non-null  object        \n",
      " 3   category_name                113270 non-null  object        \n",
      " 4   product_name                 113270 non-null  object        \n",
      " 5   customer_segment             113270 non-null  object        \n",
      " 6   customer_city                113270 non-null  object        \n",
      " 7   customer_state               113270 non-null  object        \n",
      " 8   customer_country             113270 non-null  object        \n",
      " 9   customer_region              113270 non-null  object        \n",
      " 10  delivery_status              113270 non-null  object        \n",
      " 11  order_date                   113270 non-null  datetime64[ns]\n",
      " 12  order_id                     113270 non-null  object        \n",
      " 13  ship_date                    113270 non-null  datetime64[ns]\n",
      " 14  shipping_type                113270 non-null  object        \n",
      " 15  days_for_shipment_scheduled  113270 non-null  int64         \n",
      " 16  days_for_shipment_real       113270 non-null  int64         \n",
      " 17  order_item_discount          113270 non-null  float64       \n",
      " 18  sales_per_order              113270 non-null  float64       \n",
      " 19  order_quantity               113270 non-null  int64         \n",
      " 20  profit_per_order             113270 non-null  float64       \n",
      "dtypes: datetime64[ns](2), float64(3), int64(3), object(13)\n",
      "memory usage: 18.1+ MB\n"
     ]
    }
   ],
   "source": [
    "df.info()"
   ]
  },
  {
   "cell_type": "code",
   "execution_count": 31,
   "id": "e14e053d-711f-4a6c-a99c-36fcef7add25",
   "metadata": {},
   "outputs": [
    {
     "data": {
      "text/plain": [
       "5341     2021-01-04\n",
       "72003    2021-01-04\n",
       "13245    2021-01-04\n",
       "13246    2021-01-04\n",
       "62653    2021-01-04\n",
       "            ...    \n",
       "98851    2022-12-31\n",
       "2807     2022-12-31\n",
       "58692    2022-12-31\n",
       "32523    2022-12-31\n",
       "4644     2022-12-31\n",
       "Name: order_date, Length: 113270, dtype: object"
      ]
     },
     "execution_count": 31,
     "metadata": {},
     "output_type": "execute_result"
    }
   ],
   "source": [
    "df['order_date'].sort_values()"
   ]
  },
  {
   "cell_type": "code",
   "execution_count": 32,
   "id": "bde75f58-7111-4a44-99e9-78f89f6473b0",
   "metadata": {},
   "outputs": [
    {
     "data": {
      "text/plain": [
       "93131     2021-01-05\n",
       "69465     2021-01-05\n",
       "27558     2021-01-05\n",
       "29334     2021-01-05\n",
       "27572     2021-01-05\n",
       "             ...    \n",
       "98851     2023-03-04\n",
       "106072    2023-03-04\n",
       "106066    2023-03-04\n",
       "98839     2023-03-04\n",
       "93459     2023-03-04\n",
       "Name: ship_date, Length: 113270, dtype: object"
      ]
     },
     "execution_count": 32,
     "metadata": {},
     "output_type": "execute_result"
    }
   ],
   "source": [
    "df['ship_date'].sort_values()"
   ]
  },
  {
   "cell_type": "code",
   "execution_count": 33,
   "id": "212d7371-80e6-48a3-ae3d-7524c2c91d37",
   "metadata": {},
   "outputs": [
    {
     "data": {
      "text/plain": [
       "shipping_type\n",
       "Standard Class    67627\n",
       "Second Class      22053\n",
       "First Class       17404\n",
       "Same Day           6186\n",
       "Name: count, dtype: int64"
      ]
     },
     "execution_count": 33,
     "metadata": {},
     "output_type": "execute_result"
    }
   ],
   "source": [
    "df['shipping_type'].value_counts()"
   ]
  },
  {
   "cell_type": "code",
   "execution_count": 34,
   "id": "a0b335dc-c6eb-4b25-bbe2-3c31267ca9e7",
   "metadata": {},
   "outputs": [],
   "source": [
    "df['order_item_discount']=np.round(df['order_item_discount'],2)"
   ]
  },
  {
   "cell_type": "code",
   "execution_count": 35,
   "id": "eab990ef-e4d7-4639-bf0c-03b4686491be",
   "metadata": {},
   "outputs": [],
   "source": [
    "df['sales_per_order']=np.round(df['sales_per_order'],2)\n",
    "df['profit_per_order']=np.round(df['profit_per_order'],2)"
   ]
  },
  {
   "cell_type": "code",
   "execution_count": 24,
   "id": "a7cba482-b529-46da-84a4-f3e4962b81a5",
   "metadata": {},
   "outputs": [
    {
     "data": {
      "text/html": [
       "<div>\n",
       "<style scoped>\n",
       "    .dataframe tbody tr th:only-of-type {\n",
       "        vertical-align: middle;\n",
       "    }\n",
       "\n",
       "    .dataframe tbody tr th {\n",
       "        vertical-align: top;\n",
       "    }\n",
       "\n",
       "    .dataframe thead th {\n",
       "        text-align: right;\n",
       "    }\n",
       "</style>\n",
       "<table border=\"1\" class=\"dataframe\">\n",
       "  <thead>\n",
       "    <tr style=\"text-align: right;\">\n",
       "      <th></th>\n",
       "      <th>customer_id</th>\n",
       "      <th>customer_first_name</th>\n",
       "      <th>customer_last_name</th>\n",
       "      <th>category_name</th>\n",
       "      <th>product_name</th>\n",
       "      <th>customer_segment</th>\n",
       "      <th>customer_city</th>\n",
       "      <th>customer_state</th>\n",
       "      <th>customer_country</th>\n",
       "      <th>customer_region</th>\n",
       "      <th>...</th>\n",
       "      <th>order_date</th>\n",
       "      <th>order_id</th>\n",
       "      <th>ship_date</th>\n",
       "      <th>shipping_type</th>\n",
       "      <th>days_for_shipment_scheduled</th>\n",
       "      <th>days_for_shipment_real</th>\n",
       "      <th>order_item_discount</th>\n",
       "      <th>sales_per_order</th>\n",
       "      <th>order_quantity</th>\n",
       "      <th>profit_per_order</th>\n",
       "    </tr>\n",
       "  </thead>\n",
       "  <tbody>\n",
       "    <tr>\n",
       "      <th>0</th>\n",
       "      <td>C_ID_45866</td>\n",
       "      <td>Mary</td>\n",
       "      <td>Fuller</td>\n",
       "      <td>Office Supplies</td>\n",
       "      <td>Xerox 1913</td>\n",
       "      <td>Corporate</td>\n",
       "      <td>New Rochelle</td>\n",
       "      <td>New York</td>\n",
       "      <td>United States</td>\n",
       "      <td>East</td>\n",
       "      <td>...</td>\n",
       "      <td>2022-05-11</td>\n",
       "      <td>O_ID_3001072</td>\n",
       "      <td>2022-07-11</td>\n",
       "      <td>Second Class</td>\n",
       "      <td>2</td>\n",
       "      <td>2</td>\n",
       "      <td>35.0</td>\n",
       "      <td>500.0</td>\n",
       "      <td>5</td>\n",
       "      <td>223.20</td>\n",
       "    </tr>\n",
       "    <tr>\n",
       "      <th>1</th>\n",
       "      <td>C_ID_44932</td>\n",
       "      <td>Alan</td>\n",
       "      <td>Edelman</td>\n",
       "      <td>Office Supplies</td>\n",
       "      <td>#6 3/4 Gummed Flap White Envelopes</td>\n",
       "      <td>Corporate</td>\n",
       "      <td>Houston</td>\n",
       "      <td>Texas</td>\n",
       "      <td>United States</td>\n",
       "      <td>Central</td>\n",
       "      <td>...</td>\n",
       "      <td>2022-06-20</td>\n",
       "      <td>O_ID_3009170</td>\n",
       "      <td>2022-06-23</td>\n",
       "      <td>Second Class</td>\n",
       "      <td>2</td>\n",
       "      <td>3</td>\n",
       "      <td>85.0</td>\n",
       "      <td>500.0</td>\n",
       "      <td>5</td>\n",
       "      <td>199.20</td>\n",
       "    </tr>\n",
       "    <tr>\n",
       "      <th>2</th>\n",
       "      <td>C_ID_70880</td>\n",
       "      <td>Mary</td>\n",
       "      <td>Gayman</td>\n",
       "      <td>Office Supplies</td>\n",
       "      <td>Belkin 8 Outlet Surge Protector</td>\n",
       "      <td>Consumer</td>\n",
       "      <td>Louisville</td>\n",
       "      <td>Kentucky</td>\n",
       "      <td>United States</td>\n",
       "      <td>South</td>\n",
       "      <td>...</td>\n",
       "      <td>2022-06-25</td>\n",
       "      <td>O_ID_3047567</td>\n",
       "      <td>2022-06-30</td>\n",
       "      <td>Standard Class</td>\n",
       "      <td>4</td>\n",
       "      <td>5</td>\n",
       "      <td>75.0</td>\n",
       "      <td>44.0</td>\n",
       "      <td>5</td>\n",
       "      <td>195.50</td>\n",
       "    </tr>\n",
       "    <tr>\n",
       "      <th>3</th>\n",
       "      <td>C_ID_33157</td>\n",
       "      <td>Raymond</td>\n",
       "      <td>Eason</td>\n",
       "      <td>Office Supplies</td>\n",
       "      <td>GBC VeloBinder Manual Binding System</td>\n",
       "      <td>Corporate</td>\n",
       "      <td>Chicago</td>\n",
       "      <td>Illinois</td>\n",
       "      <td>United States</td>\n",
       "      <td>Central</td>\n",
       "      <td>...</td>\n",
       "      <td>2022-06-10</td>\n",
       "      <td>O_ID_3060575</td>\n",
       "      <td>2022-10-10</td>\n",
       "      <td>Second Class</td>\n",
       "      <td>2</td>\n",
       "      <td>4</td>\n",
       "      <td>60.0</td>\n",
       "      <td>254.0</td>\n",
       "      <td>1</td>\n",
       "      <td>220.00</td>\n",
       "    </tr>\n",
       "    <tr>\n",
       "      <th>4</th>\n",
       "      <td>C_ID_58303</td>\n",
       "      <td>Mary</td>\n",
       "      <td>Gonzalez</td>\n",
       "      <td>Furniture</td>\n",
       "      <td>Eldon Pizzaz Desk Accessories</td>\n",
       "      <td>Home Office</td>\n",
       "      <td>Philadelphia</td>\n",
       "      <td>Pennsylvania</td>\n",
       "      <td>United States</td>\n",
       "      <td>East</td>\n",
       "      <td>...</td>\n",
       "      <td>2022-05-02</td>\n",
       "      <td>O_ID_3064311</td>\n",
       "      <td>2022-01-08</td>\n",
       "      <td>First Class</td>\n",
       "      <td>1</td>\n",
       "      <td>2</td>\n",
       "      <td>125.0</td>\n",
       "      <td>500.0</td>\n",
       "      <td>1</td>\n",
       "      <td>97.50</td>\n",
       "    </tr>\n",
       "    <tr>\n",
       "      <th>5</th>\n",
       "      <td>C_ID_34556</td>\n",
       "      <td>Joe</td>\n",
       "      <td>Leatherbury</td>\n",
       "      <td>Office Supplies</td>\n",
       "      <td>Hoover Shoulder Vac Commercial Portable Vacuum</td>\n",
       "      <td>Home Office</td>\n",
       "      <td>Columbia</td>\n",
       "      <td>South Carolina</td>\n",
       "      <td>United States</td>\n",
       "      <td>South</td>\n",
       "      <td>...</td>\n",
       "      <td>2022-06-24</td>\n",
       "      <td>O_ID_3074984</td>\n",
       "      <td>2022-06-28</td>\n",
       "      <td>Standard Class</td>\n",
       "      <td>4</td>\n",
       "      <td>4</td>\n",
       "      <td>80.0</td>\n",
       "      <td>500.0</td>\n",
       "      <td>2</td>\n",
       "      <td>-349.86</td>\n",
       "    </tr>\n",
       "  </tbody>\n",
       "</table>\n",
       "<p>6 rows × 21 columns</p>\n",
       "</div>"
      ],
      "text/plain": [
       "  customer_id customer_first_name customer_last_name    category_name  \\\n",
       "0  C_ID_45866                Mary             Fuller  Office Supplies   \n",
       "1  C_ID_44932                Alan            Edelman  Office Supplies   \n",
       "2  C_ID_70880                Mary             Gayman  Office Supplies   \n",
       "3  C_ID_33157             Raymond              Eason  Office Supplies   \n",
       "4  C_ID_58303                Mary           Gonzalez        Furniture   \n",
       "5  C_ID_34556                 Joe        Leatherbury  Office Supplies   \n",
       "\n",
       "                                     product_name customer_segment  \\\n",
       "0                                      Xerox 1913        Corporate   \n",
       "1              #6 3/4 Gummed Flap White Envelopes        Corporate   \n",
       "2                 Belkin 8 Outlet Surge Protector         Consumer   \n",
       "3            GBC VeloBinder Manual Binding System        Corporate   \n",
       "4                   Eldon Pizzaz Desk Accessories      Home Office   \n",
       "5  Hoover Shoulder Vac Commercial Portable Vacuum      Home Office   \n",
       "\n",
       "  customer_city  customer_state customer_country customer_region  ...  \\\n",
       "0  New Rochelle        New York    United States            East  ...   \n",
       "1       Houston           Texas    United States         Central  ...   \n",
       "2    Louisville        Kentucky    United States           South  ...   \n",
       "3       Chicago        Illinois    United States         Central  ...   \n",
       "4  Philadelphia    Pennsylvania    United States            East  ...   \n",
       "5      Columbia  South Carolina    United States           South  ...   \n",
       "\n",
       "  order_date      order_id  ship_date   shipping_type  \\\n",
       "0 2022-05-11  O_ID_3001072 2022-07-11    Second Class   \n",
       "1 2022-06-20  O_ID_3009170 2022-06-23    Second Class   \n",
       "2 2022-06-25  O_ID_3047567 2022-06-30  Standard Class   \n",
       "3 2022-06-10  O_ID_3060575 2022-10-10    Second Class   \n",
       "4 2022-05-02  O_ID_3064311 2022-01-08     First Class   \n",
       "5 2022-06-24  O_ID_3074984 2022-06-28  Standard Class   \n",
       "\n",
       "  days_for_shipment_scheduled  days_for_shipment_real  order_item_discount  \\\n",
       "0                           2                       2                 35.0   \n",
       "1                           2                       3                 85.0   \n",
       "2                           4                       5                 75.0   \n",
       "3                           2                       4                 60.0   \n",
       "4                           1                       2                125.0   \n",
       "5                           4                       4                 80.0   \n",
       "\n",
       "   sales_per_order  order_quantity  profit_per_order  \n",
       "0            500.0               5            223.20  \n",
       "1            500.0               5            199.20  \n",
       "2             44.0               5            195.50  \n",
       "3            254.0               1            220.00  \n",
       "4            500.0               1             97.50  \n",
       "5            500.0               2           -349.86  \n",
       "\n",
       "[6 rows x 21 columns]"
      ]
     },
     "execution_count": 24,
     "metadata": {},
     "output_type": "execute_result"
    }
   ],
   "source": [
    "df.head(6)"
   ]
  },
  {
   "cell_type": "code",
   "execution_count": 25,
   "id": "d6058668-e394-4951-ab3d-0493dfdecec7",
   "metadata": {},
   "outputs": [
    {
     "data": {
      "text/plain": [
       "customer_id                    0\n",
       "customer_first_name            0\n",
       "customer_last_name             0\n",
       "category_name                  0\n",
       "product_name                   0\n",
       "customer_segment               0\n",
       "customer_city                  0\n",
       "customer_state                 0\n",
       "customer_country               0\n",
       "customer_region                0\n",
       "delivery_status                0\n",
       "order_date                     0\n",
       "order_id                       0\n",
       "ship_date                      0\n",
       "shipping_type                  0\n",
       "days_for_shipment_scheduled    0\n",
       "days_for_shipment_real         0\n",
       "order_item_discount            0\n",
       "sales_per_order                0\n",
       "order_quantity                 0\n",
       "profit_per_order               0\n",
       "dtype: int64"
      ]
     },
     "execution_count": 25,
     "metadata": {},
     "output_type": "execute_result"
    }
   ],
   "source": [
    "df.isna().sum()  #No missing data"
   ]
  },
  {
   "cell_type": "code",
   "execution_count": 26,
   "id": "459dba70-4837-42b7-bccc-4ee62906c3c8",
   "metadata": {},
   "outputs": [
    {
     "data": {
      "text/html": [
       "<div>\n",
       "<style scoped>\n",
       "    .dataframe tbody tr th:only-of-type {\n",
       "        vertical-align: middle;\n",
       "    }\n",
       "\n",
       "    .dataframe tbody tr th {\n",
       "        vertical-align: top;\n",
       "    }\n",
       "\n",
       "    .dataframe thead th {\n",
       "        text-align: right;\n",
       "    }\n",
       "</style>\n",
       "<table border=\"1\" class=\"dataframe\">\n",
       "  <thead>\n",
       "    <tr style=\"text-align: right;\">\n",
       "      <th></th>\n",
       "      <th>order_date</th>\n",
       "      <th>ship_date</th>\n",
       "      <th>days_for_shipment_scheduled</th>\n",
       "      <th>days_for_shipment_real</th>\n",
       "      <th>order_item_discount</th>\n",
       "      <th>sales_per_order</th>\n",
       "      <th>order_quantity</th>\n",
       "      <th>profit_per_order</th>\n",
       "    </tr>\n",
       "  </thead>\n",
       "  <tbody>\n",
       "    <tr>\n",
       "      <th>count</th>\n",
       "      <td>113270</td>\n",
       "      <td>113270</td>\n",
       "      <td>113270.000000</td>\n",
       "      <td>113270.000000</td>\n",
       "      <td>113270.000000</td>\n",
       "      <td>113270.000000</td>\n",
       "      <td>113270.000000</td>\n",
       "      <td>113270.000000</td>\n",
       "    </tr>\n",
       "    <tr>\n",
       "      <th>mean</th>\n",
       "      <td>2021-12-11 19:54:08.613048576</td>\n",
       "      <td>2021-12-14 16:48:40.427297536</td>\n",
       "      <td>2.931209</td>\n",
       "      <td>3.464006</td>\n",
       "      <td>21.105465</td>\n",
       "      <td>204.499541</td>\n",
       "      <td>1.967564</td>\n",
       "      <td>23.069382</td>\n",
       "    </tr>\n",
       "    <tr>\n",
       "      <th>min</th>\n",
       "      <td>2021-01-04 00:00:00</td>\n",
       "      <td>2021-01-05 00:00:00</td>\n",
       "      <td>0.000000</td>\n",
       "      <td>0.000000</td>\n",
       "      <td>0.000000</td>\n",
       "      <td>9.990000</td>\n",
       "      <td>1.000000</td>\n",
       "      <td>-3366.000000</td>\n",
       "    </tr>\n",
       "    <tr>\n",
       "      <th>25%</th>\n",
       "      <td>2021-06-22 00:00:00</td>\n",
       "      <td>2021-06-25 00:00:00</td>\n",
       "      <td>2.000000</td>\n",
       "      <td>2.000000</td>\n",
       "      <td>5.500000</td>\n",
       "      <td>119.980000</td>\n",
       "      <td>1.000000</td>\n",
       "      <td>7.200000</td>\n",
       "    </tr>\n",
       "    <tr>\n",
       "      <th>50%</th>\n",
       "      <td>2021-12-06 00:00:00</td>\n",
       "      <td>2021-12-09 00:00:00</td>\n",
       "      <td>4.000000</td>\n",
       "      <td>3.000000</td>\n",
       "      <td>14.400000</td>\n",
       "      <td>199.920000</td>\n",
       "      <td>1.000000</td>\n",
       "      <td>32.030000</td>\n",
       "    </tr>\n",
       "    <tr>\n",
       "      <th>75%</th>\n",
       "      <td>2022-05-31 00:00:00</td>\n",
       "      <td>2022-06-02 00:00:00</td>\n",
       "      <td>4.000000</td>\n",
       "      <td>5.000000</td>\n",
       "      <td>30.000000</td>\n",
       "      <td>299.950000</td>\n",
       "      <td>3.000000</td>\n",
       "      <td>65.570000</td>\n",
       "    </tr>\n",
       "    <tr>\n",
       "      <th>max</th>\n",
       "      <td>2022-12-31 00:00:00</td>\n",
       "      <td>2023-03-04 00:00:00</td>\n",
       "      <td>4.000000</td>\n",
       "      <td>6.000000</td>\n",
       "      <td>500.000000</td>\n",
       "      <td>1999.990000</td>\n",
       "      <td>5.000000</td>\n",
       "      <td>2600.000000</td>\n",
       "    </tr>\n",
       "    <tr>\n",
       "      <th>std</th>\n",
       "      <td>NaN</td>\n",
       "      <td>NaN</td>\n",
       "      <td>1.375914</td>\n",
       "      <td>1.632198</td>\n",
       "      <td>22.959207</td>\n",
       "      <td>141.443082</td>\n",
       "      <td>1.355254</td>\n",
       "      <td>105.288562</td>\n",
       "    </tr>\n",
       "  </tbody>\n",
       "</table>\n",
       "</div>"
      ],
      "text/plain": [
       "                          order_date                      ship_date  \\\n",
       "count                         113270                         113270   \n",
       "mean   2021-12-11 19:54:08.613048576  2021-12-14 16:48:40.427297536   \n",
       "min              2021-01-04 00:00:00            2021-01-05 00:00:00   \n",
       "25%              2021-06-22 00:00:00            2021-06-25 00:00:00   \n",
       "50%              2021-12-06 00:00:00            2021-12-09 00:00:00   \n",
       "75%              2022-05-31 00:00:00            2022-06-02 00:00:00   \n",
       "max              2022-12-31 00:00:00            2023-03-04 00:00:00   \n",
       "std                              NaN                            NaN   \n",
       "\n",
       "       days_for_shipment_scheduled  days_for_shipment_real  \\\n",
       "count                113270.000000           113270.000000   \n",
       "mean                      2.931209                3.464006   \n",
       "min                       0.000000                0.000000   \n",
       "25%                       2.000000                2.000000   \n",
       "50%                       4.000000                3.000000   \n",
       "75%                       4.000000                5.000000   \n",
       "max                       4.000000                6.000000   \n",
       "std                       1.375914                1.632198   \n",
       "\n",
       "       order_item_discount  sales_per_order  order_quantity  profit_per_order  \n",
       "count        113270.000000    113270.000000   113270.000000     113270.000000  \n",
       "mean             21.105465       204.499541        1.967564         23.069382  \n",
       "min               0.000000         9.990000        1.000000      -3366.000000  \n",
       "25%               5.500000       119.980000        1.000000          7.200000  \n",
       "50%              14.400000       199.920000        1.000000         32.030000  \n",
       "75%              30.000000       299.950000        3.000000         65.570000  \n",
       "max             500.000000      1999.990000        5.000000       2600.000000  \n",
       "std              22.959207       141.443082        1.355254        105.288562  "
      ]
     },
     "execution_count": 26,
     "metadata": {},
     "output_type": "execute_result"
    }
   ],
   "source": [
    "df.describe()"
   ]
  },
  {
   "cell_type": "code",
   "execution_count": null,
   "id": "d2f21708-37b3-4871-8c66-f506182f6e38",
   "metadata": {},
   "outputs": [],
   "source": []
  },
  {
   "cell_type": "code",
   "execution_count": 38,
   "id": "3c03d49d-ca4c-4609-af45-f3d8681dffcd",
   "metadata": {},
   "outputs": [],
   "source": [
    "df.to_csv('modified_sales_data.csv',index=False)"
   ]
  },
  {
   "cell_type": "code",
   "execution_count": null,
   "id": "1951ee19-0900-4d34-ae22-055c8ec15366",
   "metadata": {},
   "outputs": [],
   "source": []
  },
  {
   "cell_type": "code",
   "execution_count": null,
   "id": "d435a879-4941-46a7-9f1b-8c80a104db6b",
   "metadata": {},
   "outputs": [],
   "source": []
  }
 ],
 "metadata": {
  "kernelspec": {
   "display_name": "Python 3 (ipykernel)",
   "language": "python",
   "name": "python3"
  },
  "language_info": {
   "codemirror_mode": {
    "name": "ipython",
    "version": 3
   },
   "file_extension": ".py",
   "mimetype": "text/x-python",
   "name": "python",
   "nbconvert_exporter": "python",
   "pygments_lexer": "ipython3",
   "version": "3.11.5"
  }
 },
 "nbformat": 4,
 "nbformat_minor": 5
}
